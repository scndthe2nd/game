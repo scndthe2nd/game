{
 "cells": [
  {
   "cell_type": "markdown",
   "metadata": {},
   "source": [
    "NOTE: This problem is a more challenging version of Problem 81.\n",
    "\n",
    "The minimal path sum in the $ 5 $ by $ 5 $ matrix below, by starting in any cell in the left column and finishing in any cell in the right column, and only moving up, down, and right, is indicated in red and bold; the sum is equal to $ 994 $ .\n",
    "\n",
    "$$ \n",
    "\\begin{pmatrix}\n",
    "131 & 673 & \\color{red}{234} & \\color{red}{103} & \\color{red}{18}\\\\\n",
    "\\color{red}{201} & \\color{red}{96} & \\color{red}{342} & 965 & 150\\\\\n",
    "630 & 803 & 746 & 422 & 111\\\\\n",
    "537 & 699 & 497 & 121 & 956\\\\\n",
    "805 & 732 & 524 & 37 & 331\n",
    "\\end{pmatrix}\n",
    "$$\n",
    "\n",
    "Find the minimal path sum from the left column to the right column in matrix.txt, a 31K text file containing an \n",
    "$80$ by $80$ matrix."
   ]
  },
  {
   "cell_type": "code",
   "execution_count": 13,
   "metadata": {},
   "outputs": [
    {
     "name": "stdout",
     "output_type": "stream",
     "text": [
      "Path from left to right column: [(np.int64(1), 0), (np.int64(1), 1), (np.int64(1), 2), (np.int64(1), 3), (np.int64(1), 4), (np.int64(1), 5), (np.int64(1), 6), (np.int64(2), 7), (np.int64(3), 8), (np.int64(3), 9), (np.int64(3), 10), (np.int64(4), 11), (np.int64(4), 12), (np.int64(4), 13), (np.int64(4), 14), (np.int64(4), 15), (np.int64(4), 16), (np.int64(5), 17), (np.int64(5), 18), (np.int64(5), 19), (np.int64(5), 20), (np.int64(5), 21), (np.int64(5), 22), (np.int64(6), 23), (np.int64(6), 24), (np.int64(6), 25), (np.int64(6), 26), (np.int64(6), 27), (np.int64(6), 28), (np.int64(7), 29), (np.int64(7), 30), (np.int64(7), 31), (np.int64(7), 32), (np.int64(7), 33), (np.int64(8), 34), (np.int64(8), 35), (np.int64(8), 36), (np.int64(8), 37), (np.int64(8), 38), (np.int64(8), 39), (np.int64(8), 40), (np.int64(8), 41), (np.int64(8), 42), (np.int64(8), 43), (np.int64(8), 44), (np.int64(8), 45), (np.int64(8), 46), (np.int64(8), 47), (np.int64(8), 48), (np.int64(8), 49), (np.int64(9), 50), (np.int64(10), 51), (np.int64(11), 52), (np.int64(11), 53), (np.int64(11), 54), (np.int64(11), 55), (np.int64(11), 56), (np.int64(11), 57), (np.int64(11), 58), (np.int64(11), 59), (np.int64(11), 60), (np.int64(11), 61), (np.int64(11), 62), (np.int64(11), 63), (np.int64(11), 64), (np.int64(11), 65), (np.int64(11), 66), (np.int64(11), 67), (np.int64(11), 68), (np.int64(11), 69), (np.int64(11), 70), (np.int64(11), 71), (np.int64(12), 72), (np.int64(13), 73), (np.int64(13), 74), (np.int64(14), 75), (np.int64(14), 76), (np.int64(14), 77), (np.int64(14), 78), (14, 79)]\n",
      "Minimum possible sum: 276076.0\n"
     ]
    }
   ],
   "source": [
    "import numpy as np\n",
    "\n",
    "def import_matrix_from_file(file_path):\n",
    "    matrix = []\n",
    "    with open(file_path, 'r') as file:\n",
    "        for line in file:\n",
    "            row = list(map(int, line.split(',')))\n",
    "            matrix.append(row)\n",
    "    return np.array(matrix)\n",
    "\n",
    "def find_path(matrix):\n",
    "    rows, cols = matrix.shape\n",
    "    dp = np.full((rows, cols), float('inf'))\n",
    "    path = np.full((rows, cols), -1, dtype=int)\n",
    "\n",
    "    # Initialize the first column\n",
    "    for i in range(rows):\n",
    "        dp[i][0] = matrix[i][0]\n",
    "\n",
    "    # Fill the dp table\n",
    "    for j in range(1, cols):\n",
    "        for i in range(rows):\n",
    "            if i > 0 and dp[i-1][j] + matrix[i][j] < dp[i][j]:\n",
    "                dp[i][j] = dp[i-1][j] + matrix[i][j]\n",
    "                path[i][j] = i-1\n",
    "            if dp[i][j-1] + matrix[i][j] < dp[i][j]:\n",
    "                dp[i][j] = dp[i][j-1] + matrix[i][j]\n",
    "                path[i][j] = i\n",
    "            if i < rows-1 and dp[i+1][j] + matrix[i][j] < dp[i][j]:\n",
    "                dp[i][j] = dp[i+1][j] + matrix[i][j]\n",
    "                path[i][j] = i+1\n",
    "\n",
    "    # Find the minimum path sum in the last column\n",
    "    min_path_sum = float('inf')\n",
    "    end_row = -1\n",
    "    for i in range(rows):\n",
    "        if dp[i][cols-1] < min_path_sum:\n",
    "            min_path_sum = dp[i][cols-1]\n",
    "            end_row = i\n",
    "\n",
    "    # Reconstruct the path\n",
    "    result_path = []\n",
    "    j = cols - 1\n",
    "    while j >= 0:\n",
    "        result_path.append((end_row, j))\n",
    "        end_row = path[end_row][j]\n",
    "        j -= 1\n",
    "\n",
    "    result_path.reverse()\n",
    "    return result_path, min_path_sum\n",
    "\n",
    "# Example usage\n",
    "file_path = '0082_matrix.txt'\n",
    "matrix = import_matrix_from_file(file_path)\n",
    "path, min_sum = find_path(matrix)\n",
    "print(\"Path from left to right column:\", path)\n",
    "print(\"Minimum possible sum:\", min_sum)"
   ]
  }
 ],
 "metadata": {
  "kernelspec": {
   "display_name": "Python 3",
   "language": "python",
   "name": "python3"
  },
  "language_info": {
   "codemirror_mode": {
    "name": "ipython",
    "version": 3
   },
   "file_extension": ".py",
   "mimetype": "text/x-python",
   "name": "python",
   "nbconvert_exporter": "python",
   "pygments_lexer": "ipython3",
   "version": "3.13.1"
  }
 },
 "nbformat": 4,
 "nbformat_minor": 2
}
