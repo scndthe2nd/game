{
 "cells": [
  {
   "cell_type": "markdown",
   "metadata": {},
   "source": [
    "$2520$ is the smallest number that can be divided by each of the numbers from $1$ to $10$ without any remainder.\n",
    "What is the smallest positive number that is evenly divisible by all of the numbers from $1$ to $20$?\n"
   ]
  },
  {
   "cell_type": "markdown",
   "metadata": {},
   "source": [
    "Find a range of numbers in 1 to x\n",
    "Find if the number is divisible by y"
   ]
  },
  {
   "cell_type": "code",
   "execution_count": 44,
   "metadata": {},
   "outputs": [
    {
     "name": "stdout",
     "output_type": "stream",
     "text": [
      "232792560\n"
     ]
    }
   ],
   "source": [
    "def compare_number_to_comparitor(number, comparitor):\n",
    "    return number % comparitor == 0\n",
    "\n",
    "# Initialize the number\n",
    "number = 2\n",
    "\n",
    "# Loop until we find the first number that is evenly divisible by any number from 2 to 20\n",
    "while True:\n",
    "    if all(compare_number_to_comparitor(number, comparitor) for comparitor in range(2, 20)):\n",
    "        print(number)\n",
    "        break\n",
    "    number += 1"
   ]
  },
  {
   "cell_type": "code",
   "execution_count": 45,
   "metadata": {},
   "outputs": [
    {
     "name": "stdout",
     "output_type": "stream",
     "text": [
      "232792560\n"
     ]
    }
   ],
   "source": [
    "import math\n",
    "\n",
    "# Calculate the least common multiple (LCM) of numbers from 2 to 19\n",
    "lcm = math.lcm(*range(2, 20))\n",
    "\n",
    "print(lcm)"
   ]
  },
  {
   "cell_type": "code",
   "execution_count": 46,
   "metadata": {},
   "outputs": [
    {
     "name": "stdout",
     "output_type": "stream",
     "text": [
      "3099044504245996706400\n"
     ]
    }
   ],
   "source": [
    "def greatest_common_divisor(a, b):\n",
    "    while b:\n",
    "        a, b = b, a % b\n",
    "    return a\n",
    "\n",
    "def least_common_multiple(a, b):\n",
    "    return a * b // greatest_common_divisor(a, b)\n",
    "\n",
    "# Calculate the least common multiple (LCM) of numbers from 2 to 19\n",
    "smallest_multiple = 1\n",
    "for number in range(2, 50):\n",
    "    smallest_multiple = least_common_multiple(smallest_multiple, number)\n",
    "\n",
    "print(smallest_multiple)"
   ]
  }
 ],
 "metadata": {
  "kernelspec": {
   "display_name": "Python 3",
   "language": "python",
   "name": "python3"
  },
  "language_info": {
   "codemirror_mode": {
    "name": "ipython",
    "version": 3
   },
   "file_extension": ".py",
   "mimetype": "text/x-python",
   "name": "python",
   "nbconvert_exporter": "python",
   "pygments_lexer": "ipython3",
   "version": "3.13.1"
  }
 },
 "nbformat": 4,
 "nbformat_minor": 2
}
