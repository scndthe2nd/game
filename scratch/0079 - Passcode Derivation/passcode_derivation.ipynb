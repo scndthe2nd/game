{
 "cells": [
  {
   "cell_type": "markdown",
   "metadata": {},
   "source": [
    "A common security method used for online banking is to ask the user for three random characters from a passcode. For example, if the passcode was 531278, they may ask for the 2nd, 3rd, and 5th characters; the expected reply would be: 317.\n",
    "\n",
    "The text file, keylog.txt, contains fifty successful login attempts.\n",
    "\n",
    "Given that the three characters are always asked for in order, analyse the file so as to determine the shortest possible secret passcode of unknown length."
   ]
  },
  {
   "cell_type": "markdown",
   "metadata": {},
   "source": [
    "Try:\n",
    "for line\n",
    "    split\n",
    "    for number in split line\n",
    "    value1 =+0\n",
    "    value2 =+1\n",
    "    value3 =+2\n",
    "    \n",
    "print values of all numbers"
   ]
  },
  {
   "cell_type": "code",
   "execution_count": 9,
   "metadata": {},
   "outputs": [
    {
     "name": "stdout",
     "output_type": "stream",
     "text": [
      "Digit: 7, Value: 21\n",
      "Digit: 3, Value: 212\n",
      "Digit: 1, Value: 101506\n",
      "Digit: 2, Value: 501002\n",
      "Digit: 6, Value: 501008\n",
      "Digit: 8, Value: 600901\n",
      "Digit: 0, Value: 1600000\n",
      "Digit: 9, Value: 1700400\n"
     ]
    }
   ],
   "source": [
    "def calculate_values(numbers):\n",
    "    value_dict = {}\n",
    "    \n",
    "    for number in numbers:\n",
    "        digits = [int(digit) for digit in str(number)]\n",
    "        \n",
    "        for i, digit in enumerate(digits):\n",
    "            if digit not in value_dict:\n",
    "                value_dict[digit] = 0\n",
    "            \n",
    "            # Update the value based on the new rules\n",
    "            if i == 0:\n",
    "                value_dict[digit] += 1\n",
    "            elif i == 1:\n",
    "                value_dict[digit] += 100\n",
    "            elif i == 2:\n",
    "                value_dict[digit] += 100000\n",
    "    \n",
    "    return value_dict\n",
    "\n",
    "if __name__ == \"__main__\":\n",
    "    # Read numbers from a text file\n",
    "    with open('0079_keylog.txt', 'r') as file:\n",
    "        numbers = [int(line.strip()) for line in file.readlines()]\n",
    "\n",
    "    # Calculate the values\n",
    "    values = calculate_values(numbers)\n",
    "\n",
    "    # Sort the values by their associated value\n",
    "    sorted_values = sorted(values.items(), key=lambda item: item[1])\n",
    "\n",
    "    # Print the sorted results\n",
    "    for digit, value in sorted_values:\n",
    "        print(f\"Digit: {digit}, Value: {value}\")"
   ]
  }
 ],
 "metadata": {
  "kernelspec": {
   "display_name": "Python 3",
   "language": "python",
   "name": "python3"
  },
  "language_info": {
   "codemirror_mode": {
    "name": "ipython",
    "version": 3
   },
   "file_extension": ".py",
   "mimetype": "text/x-python",
   "name": "python",
   "nbconvert_exporter": "python",
   "pygments_lexer": "ipython3",
   "version": "3.13.1"
  }
 },
 "nbformat": 4,
 "nbformat_minor": 2
}
