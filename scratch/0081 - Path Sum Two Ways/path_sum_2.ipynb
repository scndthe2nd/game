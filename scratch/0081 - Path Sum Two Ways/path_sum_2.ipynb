{
 "cells": [
  {
   "cell_type": "markdown",
   "metadata": {},
   "source": [
    "<p>In the 5 by 5 matrix below, the minimal path sum from the top left to the bottom right, by <b>only moving to the right and down</b>, is indicated in bold red and is equal to 2427.</p>\n",
    "<div class=\"center\">\n",
    "\n",
    "$$\n",
    "\\begin{pmatrix}\n",
    "\\color{red}{131} & 673 & 234 & 103 & 18\\\\\n",
    "\\color{red}{201} & \\color{red}{96} & \\color{red}{342} & 965 & 150\\\\\n",
    "630 & 803 & \\color{red}{746} & \\color{red}{422} & 111\\\\\n",
    "537 & 699 & 497 & \\color{red}{121} & 956\\\\\n",
    "805 & 732 & 524 & \\color{red}{37} & \\color{red}{331}\n",
    "\\end{pmatrix}\n",
    "$$\n",
    "\n",
    "</div>\n",
    "<p>Find the minimal path sum from the top left to the bottom right by only moving right and down in <a href=\"0081_matrix.txt\">matrix.txt</a>, a 31K text file containing an 80 by 80 matrix.</p>"
   ]
  },
  {
   "cell_type": "markdown",
   "metadata": {},
   "source": [
    "So lets take a look at all values first."
   ]
  },
  {
   "cell_type": "code",
   "execution_count": 58,
   "metadata": {},
   "outputs": [
    {
     "name": "stdout",
     "output_type": "stream",
     "text": [
      "['4445', '2697', '5115', '718', '2209', '2212', '654', '4348', '3079', '6821', '7668', '3276', '8874', '4190', '3785', '2752', '9473', '7817', '9137', '496', '7338', '3434', '7152', '4355', '4552', '7917', '7827', '2460', '2350', '691', '3514', '5880', '3145', '7633', '7199', '3783', '5066', '7487', '3285', '1084', '8985', '760', '872', '8609', '8051', '1134', '9536', '5750', '9716', '9371', '7619', '5617', '275', '9721', '2997', '2698', '1887', '8825', '6372', '3014', '2113', '7122', '7050', '6775', '5948', '2758', '1219', '3539', '348', '7989', '2735', '9862', '1263', '8089', '6401', '9462', '3168', '2758', '3748', '5870\\n']\n"
     ]
    }
   ],
   "source": [
    "def read_from_file(filename):\n",
    "    with open(filename, 'r') as file:\n",
    "        raw = file.readlines()\n",
    "        for line in raw: \n",
    "            item = line.split(',')\n",
    "            return item\n",
    "\n",
    "raw = read_from_file(\"0081_matrix.txt\")\n",
    "print(raw)"
   ]
  },
  {
   "cell_type": "markdown",
   "metadata": {},
   "source": [
    "Do i give every value a number from lowest to highest to simplify?\n",
    "That sets the weight of the path, then i can find the path with the lowest sum?"
   ]
  },
  {
   "cell_type": "code",
   "execution_count": 59,
   "metadata": {},
   "outputs": [
    {
     "name": "stdout",
     "output_type": "stream",
     "text": [
      "[7, 18, 10, 4, 1]\n",
      "[9, 3, 12, 25, 8]\n",
      "[17, 22, 21, 13, 5]\n",
      "[16, 19, 14, 6, 24]\n",
      "[23, 20, 15, 2, 11]\n"
     ]
    }
   ],
   "source": [
    "row1 = [131, 673, 234, 103, 18]\n",
    "row2 = [201, 96, 342, 965, 150]\n",
    "row3 = [630, 803, 746, 422, 111]\n",
    "row4 = [537, 699, 497, 121, 956]\n",
    "row5 = [805, 732, 524 , 37, 331]\n",
    "\n",
    "grid = [row1, row2, row3, row4, row5]\n",
    "\n",
    "def rank_grid(grid):\n",
    "    # Flatten the grid into a single list of values\n",
    "    flat_list = [item for sublist in grid for item in sublist]\n",
    "    \n",
    "    # Sort the list to get the ranking\n",
    "    sorted_list = sorted(flat_list)\n",
    "    \n",
    "    # Create a dictionary to store the rank of each value\n",
    "    rank_dict = {value: rank + 1 for rank, value in enumerate(sorted_list)}\n",
    "    \n",
    "    # Create a ranked grid with the same structure as the original grid\n",
    "    ranked_grid = [[rank_dict[value] for value in row] for row in grid]\n",
    "    \n",
    "    return ranked_grid\n",
    "\n",
    "# Get the ranked grid\n",
    "ranked_grid = rank_grid(grid)\n",
    "\n",
    "# Print the ranked grid\n",
    "for row in ranked_grid:\n",
    "    print(row)"
   ]
  },
  {
   "cell_type": "code",
   "execution_count": 66,
   "metadata": {},
   "outputs": [
    {
     "name": "stdout",
     "output_type": "stream",
     "text": [
      "The path with the lowest value is: [(0, 0), (0, 1), (0, 2), (0, 3), (0, 4), (0, 5), (0, 6), (1, 6), (1, 7), (2, 7), (2, 8), (3, 8), (3, 9), (3, 10), (3, 11), (4, 11), (4, 12), (4, 13), (4, 14), (4, 15), (4, 16), (4, 17), (5, 17), (5, 18), (5, 19), (5, 20), (5, 21), (5, 22), (5, 23), (6, 23), (6, 24), (6, 25), (6, 26), (6, 27), (6, 28), (6, 29), (7, 29), (8, 29), (8, 30), (9, 30), (9, 31), (10, 31), (11, 31), (11, 32), (11, 33), (12, 33), (13, 33), (14, 33), (15, 33), (16, 33), (17, 33), (17, 34), (18, 34), (19, 34), (20, 34), (21, 34), (22, 34), (22, 35), (23, 35), (24, 35), (24, 36), (24, 37), (25, 37), (25, 38), (26, 38), (26, 39), (26, 40), (26, 41), (27, 41), (27, 42), (27, 43), (28, 43), (29, 43), (30, 43), (31, 43), (32, 43), (32, 44), (32, 45), (32, 46), (33, 46), (34, 46), (35, 46), (36, 46), (37, 46), (38, 46), (39, 46), (39, 47), (39, 48), (40, 48), (41, 48), (42, 48), (43, 48), (44, 48), (44, 49), (45, 49), (46, 49), (47, 49), (47, 50), (48, 50), (48, 51), (49, 51), (49, 52), (50, 52), (50, 53), (50, 54), (50, 55), (51, 55), (52, 55), (52, 56), (52, 57), (52, 58), (53, 58), (53, 59), (53, 60), (54, 60), (55, 60), (56, 60), (57, 60), (58, 60), (59, 60), (60, 60), (61, 60), (62, 60), (62, 61), (62, 62), (62, 63), (62, 64), (62, 65), (62, 66), (63, 66), (64, 66), (65, 66), (66, 66), (67, 66), (67, 67), (67, 68), (67, 69), (67, 70), (67, 71), (68, 71), (68, 72), (69, 72), (69, 73), (69, 74), (69, 75), (69, 76), (70, 76), (71, 76), (71, 77), (72, 77), (72, 78), (73, 78), (74, 78), (75, 78), (76, 78), (77, 78), (78, 78), (79, 78), (79, 79)]\n",
      "The lowest value is: 427337\n"
     ]
    }
   ],
   "source": [
    "import heapq\n",
    "\n",
    "def find_lowest_path(grid):\n",
    "    rows = len(grid)\n",
    "    cols = len(grid[0])\n",
    "    \n",
    "    # Create a priority queue to store the paths with their cumulative values\n",
    "    pq = [(grid[0][0], 0, 0, [(0, 0)])]\n",
    "    \n",
    "    # Create a set to store visited cells\n",
    "    visited = set()\n",
    "    \n",
    "    while pq:\n",
    "        value, row, col, path = heapq.heappop(pq)\n",
    "        \n",
    "        # If we reach the bottom-right cell, return the path and its value\n",
    "        if row == rows - 1 and col == cols - 1:\n",
    "            return path, value\n",
    "        \n",
    "        # Mark the current cell as visited\n",
    "        visited.add((row, col))\n",
    "        \n",
    "        # Explore the neighboring cells (right and down)\n",
    "        for dr, dc in [(1, 0), (0, 1)]:\n",
    "            new_row, new_col = row + dr, col + dc\n",
    "            if 0 <= new_row < rows and 0 <= new_col < cols and (new_row, new_col) not in visited:\n",
    "                new_value = value + grid[new_row][new_col]\n",
    "                new_path = path + [(new_row, new_col)]\n",
    "                heapq.heappush(pq, (new_value, new_row, new_col, new_path))\n",
    "    \n",
    "    return None\n",
    "\n",
    "# Define the grid\n",
    "row1 = [131, 673, 234, 103, 18]\n",
    "row2 = [201, 96, 342, 965, 150]\n",
    "row3 = [630, 803, 746, 422, 111]\n",
    "row4 = [537, 699, 497, 121, 956]\n",
    "row5 = [805, 732, 524, 37, 331]\n",
    "\n",
    "grid = [row1, row2, row3, row4, row5]\n",
    "\n",
    "\n",
    "def read_from_file(filename):\n",
    "    with open(filename, 'r') as file:\n",
    "        raw = file.readlines()\n",
    "        return raw\n",
    "\n",
    "grid= read_from_file(\"0081_matrix.txt\")\n",
    "import csv\n",
    "\n",
    "def read_grid_from_csv(file_path):\n",
    "    grid = []\n",
    "    with open(file_path, 'r') as file:\n",
    "        reader = csv.reader(file)\n",
    "        for row in reader:\n",
    "            grid.append([int(value) for value in row])\n",
    "    return grid\n",
    "\n",
    "# Example usage\n",
    "file_path = '0081_matrix.txt'\n",
    "grid = read_grid_from_csv(file_path)\n",
    "\n",
    "\n",
    "# Find the path with the lowest value in the new grid\n",
    "lowest_path, lowest_value = find_lowest_path(grid)\n",
    "\n",
    "print(f\"The path with the lowest value is: {lowest_path}\")\n",
    "print(f\"The lowest value is: {lowest_value}\")"
   ]
  }
 ],
 "metadata": {
  "kernelspec": {
   "display_name": "Python 3",
   "language": "python",
   "name": "python3"
  },
  "language_info": {
   "codemirror_mode": {
    "name": "ipython",
    "version": 3
   },
   "file_extension": ".py",
   "mimetype": "text/x-python",
   "name": "python",
   "nbconvert_exporter": "python",
   "pygments_lexer": "ipython3",
   "version": "3.13.1"
  }
 },
 "nbformat": 4,
 "nbformat_minor": 2
}
